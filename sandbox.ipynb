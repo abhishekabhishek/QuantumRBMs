{
 "metadata": {
  "language_info": {
   "codemirror_mode": {
    "name": "ipython",
    "version": 3
   },
   "file_extension": ".py",
   "mimetype": "text/x-python",
   "name": "python",
   "nbconvert_exporter": "python",
   "pygments_lexer": "ipython3",
   "version": "3.7.11-final"
  },
  "orig_nbformat": 2,
  "kernelspec": {
   "name": "python371164bit3046986d665e4bb1a84da902ce4a36fb",
   "display_name": "Python 3.7.11 64-bit"
  }
 },
 "nbformat": 4,
 "nbformat_minor": 2,
 "cells": [
  {
   "cell_type": "code",
   "execution_count": 1,
   "metadata": {},
   "outputs": [],
   "source": [
    "import numpy as np\n",
    "\n",
    "# DWave imports\n",
    "from dwave.system import DWaveSampler\n",
    "import dwave.inspector\n"
   ]
  },
  {
   "cell_type": "code",
   "execution_count": 2,
   "metadata": {},
   "outputs": [],
   "source": [
    "sampler = DWaveSampler(solver={\"topology__type\":\"chimera\"})"
   ]
  },
  {
   "cell_type": "code",
   "execution_count": 3,
   "metadata": {},
   "outputs": [],
   "source": [
    "left =  [0, 1, 2, 3, 132, 133, 134, 135]\n",
    "right =  [4, 5, 6, 7, 128, 129, 130, 131]\n",
    "edge_list =  [(0, 4), (0, 5), (0, 6), (0, 7), (0, 128), (1, 4), (1, 5), (1, 6), (1, 7), (1, 129), (2, 4), (2, 5), (2, 6), (2, 7), (2, 130), (3, 4), (3, 5), (3, 6), (3, 7), (3, 131), (128, 132), (128, 133), (128, 134), (128, 135), (129, 132), (129, 133), (129, 134), (129, 135), (130, 132), (130, 133), (130, 134), (130, 135), (131, 132), (131, 133), (131, 134), (131, 135)]"
   ]
  },
  {
   "cell_type": "code",
   "execution_count": 5,
   "metadata": {},
   "outputs": [],
   "source": [
    "qubits = left + right\n",
    "biases = np.random.uniform(-2., 2., len(qubits))"
   ]
  },
  {
   "cell_type": "code",
   "execution_count": 6,
   "metadata": {},
   "outputs": [],
   "source": [
    "weights = np.random.uniform(-2., 1., len(edge_list))"
   ]
  },
  {
   "cell_type": "code",
   "execution_count": 8,
   "metadata": {},
   "outputs": [],
   "source": [
    "h = {qubit:bias for qubit,bias in zip(qubits, biases)}\n",
    "J = {edge:weight for edge, weight in zip(edge_list, weights)}"
   ]
  },
  {
   "cell_type": "code",
   "execution_count": 9,
   "metadata": {},
   "outputs": [],
   "source": [
    "response = sampler.sample_ising(h, J, num_reads=100)"
   ]
  },
  {
   "cell_type": "code",
   "execution_count": 10,
   "metadata": {},
   "outputs": [
    {
     "output_type": "execute_result",
     "data": {
      "text/plain": [
       "'http://127.0.0.1:18000/?problemId=c5cccb28-fdea-4159-b28e-2a48d6f535bd'"
      ]
     },
     "metadata": {},
     "execution_count": 10
    }
   ],
   "source": [
    "dwave.inspector.show(response)"
   ]
  },
  {
   "cell_type": "code",
   "execution_count": null,
   "metadata": {},
   "outputs": [],
   "source": []
  }
 ]
}